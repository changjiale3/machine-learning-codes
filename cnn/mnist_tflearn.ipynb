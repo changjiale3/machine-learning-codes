{
 "cells": [
  {
   "cell_type": "code",
   "execution_count": 2,
   "metadata": {},
   "outputs": [
    {
     "name": "stdout",
     "output_type": "stream",
     "text": [
      "Training Step: 17199  | total loss: \u001b[1m\u001b[32m0.48467\u001b[0m\u001b[0m | time: 9.021s\n",
      "| SGD | epoch: 020 | loss: 0.48467 - acc: 0.9624 -- iter: 54976/55000\n",
      "Training Step: 17200  | total loss: \u001b[1m\u001b[32m0.43667\u001b[0m\u001b[0m | time: 10.342s\n",
      "| SGD | epoch: 020 | loss: 0.43667 - acc: 0.9662 | val_loss: 0.03102 - val_acc: 0.9894 -- iter: 55000/55000\n",
      "--\n"
     ]
    }
   ],
   "source": [
    "'''\n",
    "    Usage: prepare MNIST_data/ & python mnist.py\n",
    "'''\n",
    "import tflearn\n",
    "from tflearn.layers.core import input_data, fully_connected\n",
    "from tflearn.layers.conv import conv_2d, max_pool_2d\n",
    "from tflearn.layers.estimator import regression\n",
    "\n",
    "import tflearn.datasets.mnist as mnist\n",
    "\n",
    "X_train, y_train, X_test, y_test = mnist.load_data(data_dir=\"../data/MNIST_data/\", one_hot=True)\n",
    "\n",
    "X_train = X_train.reshape([-1, 28, 28, 1])\n",
    "X_test = X_test.reshape([-1, 28, 28, 1])\n",
    "\n",
    "\n",
    "# define a placholder to recv data\n",
    "net = input_data(shape=[None, 28, 28, 1], name=\"input\")\n",
    "\n",
    "# layer1\n",
    "net = conv_2d(net, nb_filter=32, filter_size=[5, 5], activation=\"relu\", padding='same')\n",
    "net = max_pool_2d(net, kernel_size=[2,2]) # strides default to be the same as kernel_size\n",
    "\n",
    "# layer2\n",
    "net = conv_2d(net, nb_filter=64, filter_size=[5, 5], activation=\"relu\", padding='same')\n",
    "net = max_pool_2d(net, kernel_size=[2,2])\n",
    "\n",
    "####################################################################\n",
    "# No need to reshape\n",
    "####################################################################\n",
    "\n",
    "# layer3\n",
    "net = fully_connected(net, n_units=500, activation=\"relu\")\n",
    "\n",
    "# layer4\n",
    "net = fully_connected(net, n_units=10, activation=\"softmax\")\n",
    "\n",
    "# calc optimizer\n",
    "\n",
    "net = regression(net, optimizer='sgd', loss='categorical_crossentropy', learning_rate=0.01)\n",
    "\n",
    "# create Deep NN\n",
    "\n",
    "model = tflearn.DNN(net, tensorboard_verbose=0)\n",
    "\n",
    "# train: just like \"fit\" in sklearn\n",
    "model.fit(X_train, y_train, n_epoch=20, validation_set=([X_test, y_test]), show_metric=True, shuffle=True,)\n",
    "\n",
    "\n"
   ]
  }
 ],
 "metadata": {
  "kernelspec": {
   "display_name": "Python 3",
   "language": "python",
   "name": "python3"
  },
  "language_info": {
   "codemirror_mode": {
    "name": "ipython",
    "version": 3
   },
   "file_extension": ".py",
   "mimetype": "text/x-python",
   "name": "python",
   "nbconvert_exporter": "python",
   "pygments_lexer": "ipython3",
   "version": "3.6.4"
  }
 },
 "nbformat": 4,
 "nbformat_minor": 2
}
