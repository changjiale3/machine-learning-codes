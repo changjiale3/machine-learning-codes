{
 "cells": [
  {
   "cell_type": "markdown",
   "metadata": {},
   "source": [
    "# MNIST on Slim"
   ]
  },
  {
   "cell_type": "markdown",
   "metadata": {},
   "source": [
    "Step 1: Import packages."
   ]
  },
  {
   "cell_type": "code",
   "execution_count": 1,
   "metadata": {},
   "outputs": [],
   "source": [
    "import tensorflow as tf\n",
    "import numpy as np\n",
    "import os\n",
    "import tensorflow.contrib.slim as slim\n",
    "from tensorflow.examples.tutorials.mnist import input_data"
   ]
  },
  {
   "cell_type": "markdown",
   "metadata": {},
   "source": [
    "Step 2: Prepare MNIST data."
   ]
  },
  {
   "cell_type": "code",
   "execution_count": 2,
   "metadata": {},
   "outputs": [
    {
     "name": "stdout",
     "output_type": "stream",
     "text": [
      "WARNING:tensorflow:From <ipython-input-2-ef58dcaac70b>:8: read_data_sets (from tensorflow.contrib.learn.python.learn.datasets.mnist) is deprecated and will be removed in a future version.\n",
      "Instructions for updating:\n",
      "Please use alternatives such as official/mnist/dataset.py from tensorflow/models.\n",
      "WARNING:tensorflow:From /home/orris/anaconda3/lib/python3.6/site-packages/tensorflow/contrib/learn/python/learn/datasets/mnist.py:260: maybe_download (from tensorflow.contrib.learn.python.learn.datasets.base) is deprecated and will be removed in a future version.\n",
      "Instructions for updating:\n",
      "Please write your own downloading logic.\n",
      "WARNING:tensorflow:From /home/orris/anaconda3/lib/python3.6/site-packages/tensorflow/contrib/learn/python/learn/datasets/mnist.py:262: extract_images (from tensorflow.contrib.learn.python.learn.datasets.mnist) is deprecated and will be removed in a future version.\n",
      "Instructions for updating:\n",
      "Please use tf.data to implement this functionality.\n",
      "Extracting ../../data/MNIST_data/train-images-idx3-ubyte.gz\n",
      "WARNING:tensorflow:From /home/orris/anaconda3/lib/python3.6/site-packages/tensorflow/contrib/learn/python/learn/datasets/mnist.py:267: extract_labels (from tensorflow.contrib.learn.python.learn.datasets.mnist) is deprecated and will be removed in a future version.\n",
      "Instructions for updating:\n",
      "Please use tf.data to implement this functionality.\n",
      "Extracting ../../data/MNIST_data/train-labels-idx1-ubyte.gz\n",
      "WARNING:tensorflow:From /home/orris/anaconda3/lib/python3.6/site-packages/tensorflow/contrib/learn/python/learn/datasets/mnist.py:110: dense_to_one_hot (from tensorflow.contrib.learn.python.learn.datasets.mnist) is deprecated and will be removed in a future version.\n",
      "Instructions for updating:\n",
      "Please use tf.one_hot on tensors.\n",
      "Extracting ../../data/MNIST_data/t10k-images-idx3-ubyte.gz\n",
      "Extracting ../../data/MNIST_data/t10k-labels-idx1-ubyte.gz\n",
      "WARNING:tensorflow:From /home/orris/anaconda3/lib/python3.6/site-packages/tensorflow/contrib/learn/python/learn/datasets/mnist.py:290: DataSet.__init__ (from tensorflow.contrib.learn.python.learn.datasets.mnist) is deprecated and will be removed in a future version.\n",
      "Instructions for updating:\n",
      "Please use alternatives such as official/mnist/dataset.py from tensorflow/models.\n"
     ]
    }
   ],
   "source": [
    "mnist_dir = '../../data/MNIST_data'\n",
    "\n",
    "if not os.path.exists(mnist_dir):\n",
    "    print('Please prepare MNIST_data!')\n",
    "    exit(1)\n",
    "\n",
    "# find the target\n",
    "mnist = input_data.read_data_sets(mnist_dir,one_hot=True)\n",
    "X_test = mnist.test.images\n",
    "y_test = mnist.test.labels\n",
    "len_test = len(y_test)"
   ]
  },
  {
   "cell_type": "markdown",
   "metadata": {},
   "source": [
    "Step 3: Build models."
   ]
  },
  {
   "cell_type": "code",
   "execution_count": 3,
   "metadata": {},
   "outputs": [],
   "source": [
    "features = tf.placeholder(tf.float32,[None,784])\n",
    "labels = tf.placeholder(tf.float32,[None,10])\n",
    "keep_prob = tf.placeholder(tf.float32)\n",
    "\n",
    "inputs_reshaped = tf.reshape(features, [-1, 28, 28, 1])\n",
    "# layer1: cnn\n",
    "conv1 = slim.conv2d(inputs_reshaped, num_outputs=32, kernel_size=[5, 5], padding='SAME', scope=\"layer1_conv\")\n",
    "conv1_pooling = slim.max_pool2d(conv1, kernel_size=[2, 2],stride=2,scope=\"layer1_pooling\")\n",
    "# layer2: cnn\n",
    "conv2 = slim.conv2d(conv1_pooling, num_outputs=64, kernel_size=[5, 5], padding='SAME', scope=\"layer2_conv\")\n",
    "conv2_pooling = slim.max_pool2d(conv2, kernel_size=[2, 2],stride=2,scope=\"layer2_pooling\")\n",
    "\n",
    "# reshape\n",
    "conv2_reshape = slim.flatten(conv2_pooling, scope=\"reshape\")\n",
    "\n",
    "# layer3: nn\n",
    "nn3 = slim.fully_connected(conv2_reshape, num_outputs=500, activation_fn=tf.nn.sigmoid, scope=\"layer3\") # activation_fn is default to ReLU\n",
    "# layer4: nn\n",
    "#nn4 = slim.fully_connected(nn3, num_outputs=10, scope=\"layer4\")\n",
    "#y_predicted = slim.fully_connected(nn3, num_outputs=10, activation_fn=tf.nn.softmax, scope=\"layer4\")\n",
    "y_predicted = slim.fully_connected(nn3, num_outputs=10, activation_fn=None, scope=\"layer4\")\n",
    "\n",
    "#y_predicted = nn4\n",
    "\n",
    "####################################################################################################################\n",
    "# Do not use the loss above!! Otherwise, the params will not be updated\n",
    "####################################################################################################################\n",
    "#loss=-tf.reduce_mean(tf.reduce_sum(labels*tf.log(y_predicted)))\n",
    "loss = tf.reduce_mean(tf.nn.sparse_softmax_cross_entropy_with_logits(logits=y_predicted, labels=tf.argmax(labels, 1)))\n",
    "\n",
    "#train=tf.train.AdamOptimizer(1e-3).minimize(cross_entropy)\n",
    "train=tf.train.GradientDescentOptimizer(0.01).minimize(loss)"
   ]
  },
  {
   "cell_type": "markdown",
   "metadata": {},
   "source": [
    "Step 4: Train models."
   ]
  },
  {
   "cell_type": "code",
   "execution_count": 4,
   "metadata": {},
   "outputs": [
    {
     "name": "stdout",
     "output_type": "stream",
     "text": [
      "epoch 0: 1032/10000\n",
      "epoch 50: 1953/10000\n",
      "epoch 100: 2077/10000\n",
      "epoch 150: 2778/10000\n",
      "epoch 200: 3004/10000\n",
      "epoch 250: 3431/10000\n",
      "epoch 300: 6177/10000\n",
      "epoch 350: 6102/10000\n",
      "epoch 400: 6899/10000\n",
      "epoch 450: 7680/10000\n",
      "epoch 500: 8016/10000\n",
      "epoch 550: 8388/10000\n",
      "epoch 600: 8503/10000\n",
      "epoch 650: 8626/10000\n",
      "epoch 700: 8671/10000\n",
      "epoch 750: 8805/10000\n",
      "epoch 800: 8809/10000\n",
      "epoch 850: 8907/10000\n",
      "epoch 900: 8939/10000\n",
      "epoch 950: 8944/10000\n"
     ]
    }
   ],
   "source": [
    "config = tf.ConfigProto()\n",
    "config.gpu_options.allow_growth = True\n",
    "with tf.Session(config=config) as sess:\n",
    "    sess.run(tf.global_variables_initializer())\n",
    "    for epoch in range(1000):\n",
    "        X_train,y_train = mnist.train.next_batch(100)\n",
    "        sess.run(train,feed_dict = {features:X_train,labels:y_train,keep_prob:0.3})\n",
    "\n",
    "        # check accuracy\n",
    "        if epoch % 50 == 0:\n",
    "            y_pre = sess.run(y_predicted,feed_dict={features:X_test,labels:y_test,keep_prob:1})\n",
    "            total = tf.reduce_sum(tf.cast(tf.equal(tf.argmax(y_pre,axis=1),tf.argmax(y_test,axis=1)),tf.int16))\n",
    "            print(\"epoch {0}: {1}/{2}\".format(epoch,sess.run(total,feed_dict={features:X_test,labels:y_test,keep_prob:1}),len_test))\n"
   ]
  }
 ],
 "metadata": {
  "kernelspec": {
   "display_name": "Python 3",
   "language": "python",
   "name": "python3"
  },
  "language_info": {
   "codemirror_mode": {
    "name": "ipython",
    "version": 3
   },
   "file_extension": ".py",
   "mimetype": "text/x-python",
   "name": "python",
   "nbconvert_exporter": "python",
   "pygments_lexer": "ipython3",
   "version": "3.6.4"
  }
 },
 "nbformat": 4,
 "nbformat_minor": 2
}
