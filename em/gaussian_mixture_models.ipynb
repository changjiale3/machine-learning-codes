{
  "nbformat": 4,
  "nbformat_minor": 0,
  "metadata": {
    "colab": {
      "name": "gaussian_mixture_models.ipynb",
      "version": "0.3.2",
      "provenance": [],
      "collapsed_sections": []
    },
    "kernelspec": {
      "name": "python3",
      "display_name": "Python 3"
    }
  },
  "cells": [
    {
      "cell_type": "markdown",
      "metadata": {
        "id": "SzdBaH8Pul7m",
        "colab_type": "text"
      },
      "source": [
        "# Gaussian Mixture Models\n",
        "Take Gaussian and add another gaussian\n",
        "\n",
        "Fit a GMM with the Expectation-Maximization (EM) Algorithm.\n",
        "\n",
        "We need to guess the number of gaussian distributions. However, Kernel Density Estimation (KDE) does not require guessing.\n",
        "\n",
        "\n",
        "## Formulas\n",
        "The basic equation is \n",
        "\\begin{align*}\n",
        "P(c|x) &  = \\frac{P(c) P(x|c) }{ P(x) } \\\\\n",
        "           & = \\frac{P(c) P(x|c) } {\\sum_i{ P(c_i) P(x|c_i)}}\n",
        "\\end{align*}\n",
        "\n",
        "+ $P(x|c)$ is pdf:\n",
        "$$P(x|c) = f(x|\\theta) = w f_1(x|\\mu_1, \\sigma_1^2) + (1 - w) f_2(x|\\mu_2, \\sigma_2^2) $$\n",
        "\n",
        "$$f(x|\\mu, \\sigma^2) = \\frac{1}{\\sqrt{2 \\pi} |\\sigma|} \\exp^{ - \\frac{ (x - \\mu)^2 }{ 2 \\sigma^2  }  }   $$\n",
        "\n",
        "+ $P(c)$ is initilized as $\\frac{1}{N}$ for example and will be updated during the EM iteration\n",
        "\n",
        "A specific gaussian distribution is pulled by the points that are more likely to be classified to it. Therefore we need to compute the importances of all the points for each gaussian distribution, and the new mean and standard is based on the weights:\n",
        "\n",
        "\\begin{align*}\n",
        "w_{i, c} & = P(c|x_i)  \\\\\n",
        " \\mu & = \\frac{w_1 x_1 + w_2 x_2 + \\ldots + w_n x_n}{ w_1 + w_2 + \\ldots + w_n  } \\\\\n",
        " \\sigma & = \\frac{w_1 (x_1  - \\mu) ^ 2+ w_2 (x_2  - \\mu)^2 + \\ldots + w_n (x_n - \\mu)^2}{ w_1 + w_2 + \\ldots + w_n  }  \\\\\n",
        "P(c) & = \\frac{w_1 + w_2 + \\ldots + w_n}{n} \n",
        "\\end{align*}\n",
        "\n",
        "\n",
        "Note that the $\\mu$ in the caculation of $\\sigma$ is the new mean obtained from the second equation. In K-means algorithm, $w_i$ has a value 1 if $x_i$ belongs to the class, otherwise 0.\n",
        "\n",
        "## Expectation-Maximization Algorithm\n",
        "In statistics, an EM algorithm is an **iterative** method to find the **maximum likelihood** or maximum a posterior estimates of parameters in statistical models, where the model depends on **unobserved latent variables**\n",
        "\n",
        "EM steps:\n",
        "1. Color points\n",
        "2. Pull the Gaussian distribution\n",
        "\n",
        "\n",
        "\n",
        "\n",
        "## Reference\n",
        "+ [Expectation Maximization: how it works](https://www.youtube.com/watch?v=iQoXFmbXRJA)\n",
        "+ [Gaussian Mixture Models](https://github.com/llSourcell/Gaussian_Mixture_Models)\n",
        "+ [EM.4: Gaussian mixture model (GMM)](https://www.youtube.com/watch?v=9YA2t78Ha68)"
      ]
    },
    {
      "cell_type": "code",
      "metadata": {
        "id": "4yks0PcH0Oy3",
        "colab_type": "code",
        "colab": {}
      },
      "source": [
        "import matplotlib.pyplot as plt\n",
        "import numpy as np\n",
        "from scipy import stats\n",
        "import seaborn as sns\n",
        "import pandas as pd\n",
        "sns.set_style('white')\n",
        "%matplotlib inline"
      ],
      "execution_count": 0,
      "outputs": []
    },
    {
      "cell_type": "code",
      "metadata": {
        "id": "2CMP1I8W05M-",
        "colab_type": "code",
        "colab": {}
      },
      "source": [
        "x = np.linspace(start=-10, stop=10, num=1000)\n",
        "y = stats.norm.pdf(x, loc=0, scale=1.5)"
      ],
      "execution_count": 0,
      "outputs": []
    },
    {
      "cell_type": "code",
      "metadata": {
        "id": "mPSWtqsQ1FXj",
        "colab_type": "code",
        "outputId": "93d2f2eb-7d2c-4bb8-fd17-d49c2308b36a",
        "colab": {
          "base_uri": "https://localhost:8080/",
          "height": 398
        }
      },
      "source": [
        "!wget https://raw.githubusercontent.com/brianspiering/gaussian_mixture_models/master/bimodal_example.csv\n",
        "df = pd.read_csv('bimodal_example.csv')\n",
        "df.head(n=5)"
      ],
      "execution_count": 3,
      "outputs": [
        {
          "output_type": "stream",
          "text": [
            "--2019-06-16 18:12:05--  https://raw.githubusercontent.com/brianspiering/gaussian_mixture_models/master/bimodal_example.csv\n",
            "Resolving raw.githubusercontent.com (raw.githubusercontent.com)... 151.101.0.133, 151.101.64.133, 151.101.128.133, ...\n",
            "Connecting to raw.githubusercontent.com (raw.githubusercontent.com)|151.101.0.133|:443... connected.\n",
            "HTTP request sent, awaiting response... 200 OK\n",
            "Length: 1212 (1.2K) [text/plain]\n",
            "Saving to: ‘bimodal_example.csv.23’\n",
            "\n",
            "\rbimodal_example.csv   0%[                    ]       0  --.-KB/s               \rbimodal_example.csv 100%[===================>]   1.18K  --.-KB/s    in 0s      \n",
            "\n",
            "2019-06-16 18:12:05 (173 MB/s) - ‘bimodal_example.csv.23’ saved [1212/1212]\n",
            "\n"
          ],
          "name": "stdout"
        },
        {
          "output_type": "execute_result",
          "data": {
            "text/html": [
              "<div>\n",
              "<style scoped>\n",
              "    .dataframe tbody tr th:only-of-type {\n",
              "        vertical-align: middle;\n",
              "    }\n",
              "\n",
              "    .dataframe tbody tr th {\n",
              "        vertical-align: top;\n",
              "    }\n",
              "\n",
              "    .dataframe thead th {\n",
              "        text-align: right;\n",
              "    }\n",
              "</style>\n",
              "<table border=\"1\" class=\"dataframe\">\n",
              "  <thead>\n",
              "    <tr style=\"text-align: right;\">\n",
              "      <th></th>\n",
              "      <th>x</th>\n",
              "    </tr>\n",
              "  </thead>\n",
              "  <tbody>\n",
              "    <tr>\n",
              "      <th>0</th>\n",
              "      <td>0.252851</td>\n",
              "    </tr>\n",
              "    <tr>\n",
              "      <th>1</th>\n",
              "      <td>-1.034562</td>\n",
              "    </tr>\n",
              "    <tr>\n",
              "      <th>2</th>\n",
              "      <td>3.319558</td>\n",
              "    </tr>\n",
              "    <tr>\n",
              "      <th>3</th>\n",
              "      <td>4.552363</td>\n",
              "    </tr>\n",
              "    <tr>\n",
              "      <th>4</th>\n",
              "      <td>-0.775995</td>\n",
              "    </tr>\n",
              "  </tbody>\n",
              "</table>\n",
              "</div>"
            ],
            "text/plain": [
              "          x\n",
              "0  0.252851\n",
              "1 -1.034562\n",
              "2  3.319558\n",
              "3  4.552363\n",
              "4 -0.775995"
            ]
          },
          "metadata": {
            "tags": []
          },
          "execution_count": 3
        }
      ]
    },
    {
      "cell_type": "code",
      "metadata": {
        "id": "EmGcM-XX1Qot",
        "colab_type": "code",
        "colab": {}
      },
      "source": [
        "data = df.x"
      ],
      "execution_count": 0,
      "outputs": []
    },
    {
      "cell_type": "code",
      "metadata": {
        "id": "ABAXr7DQ1UF7",
        "colab_type": "code",
        "outputId": "770c364b-2045-4596-e5d7-abe46b3e65cf",
        "colab": {
          "base_uri": "https://localhost:8080/",
          "height": 302
        }
      },
      "source": [
        "sns.distplot(data, bins=20, kde=False)"
      ],
      "execution_count": 5,
      "outputs": [
        {
          "output_type": "execute_result",
          "data": {
            "text/plain": [
              "<matplotlib.axes._subplots.AxesSubplot at 0x7f8bc37a2390>"
            ]
          },
          "metadata": {
            "tags": []
          },
          "execution_count": 5
        },
        {
          "output_type": "display_data",
          "data": {
            "image/png": "[encoded data removed]",
            "text/plain": [
              "<Figure size 432x288 with 1 Axes>"
            ]
          },
          "metadata": {
            "tags": []
          }
        }
      ]
    },
    {
      "cell_type": "code",
      "metadata": {
        "id": "cN1XP6KS1ULN",
        "colab_type": "code",
        "colab": {}
      },
      "source": [
        "# data"
      ],
      "execution_count": 0,
      "outputs": []
    },
    {
      "cell_type": "markdown",
      "metadata": {
        "id": "BpAvaAdb5tvK",
        "colab_type": "text"
      },
      "source": [
        "## Model\n",
        "2 Gaussian distributions: $N(\\mu_1, \\sigma_1^2)$, $N(\\mu_2, \\sigma_2^2)$\n",
        "\n",
        "There are 5 parameters in total: ($w$, $\\mu_1$, $\\sigma_1$, $\\mu_2$, $\\sigma_2$). 4 of them are distribution parameters and 1 more for the probability of choosing one of them.\n",
        "\n",
        "The probability density function (PDF) is:\n",
        "$$f(x|\\theta) = w f_1(x|\\mu_1, \\sigma_1^2) + (1 - w) f_2(x|\\mu_2, \\sigma_2^2)$$\n",
        "where $w$ means the probability that data comes from the first Gaussian distribution and $x$ is directly observedvariabl\n",
        "\n"
      ]
    },
    {
      "cell_type": "code",
      "metadata": {
        "id": "BmVOCill63qL",
        "colab_type": "code",
        "colab": {}
      },
      "source": [
        "import math\n",
        "import random\n",
        "\n",
        "class Gaussian(object):\n",
        "    def __init__(self, mu, sigma):\n",
        "        self.mu = mu\n",
        "        self.sigma = sigma\n",
        "        \n",
        "    def pdf(self, x):\n",
        "        z = -0.5 *((x - self.mu) ** 2) / self.sigma**2\n",
        "        return math.e ** z / (math.sqrt(2 * math.pi) * abs(self.sigma))\n",
        "    def __str__(self):\n",
        "        return 'Gaussian mu:{}, sigma:{}'.format(self.mu, self.sigma)\n",
        "      \n",
        "class GMM(object):\n",
        "    def __init__(self, data, min_mu=min(data), max_mu=max(data), min_sigma=.1, max_sigma=1, w=0.5):\n",
        "        '''\n",
        "            max, min of mean are chosen from the maximum and minimum value in data\n",
        "            max, min of std is custom \n",
        "            data: 1d numpy array\n",
        "        '''\n",
        "        self.data = data # (100, ) = (B, )\n",
        "        self.g1 = Gaussian(random.uniform(min_mu, max_mu), random.uniform(min_sigma, max_sigma))\n",
        "        self.g2 = Gaussian(random.uniform(min_mu, max_mu), random.uniform(min_sigma, max_sigma))    \n",
        "        self.w = w\n",
        "        \n",
        "    def E(self):\n",
        "        wprobs1, wprobs2 = list(), list()\n",
        "        self.loglike = 0\n",
        "#         eps = 1e-20\n",
        "        eps = 0\n",
        "        for x in self.data:\n",
        "            \n",
        "            wprob1 = self.w * self.g1.pdf(x) #/ (denominator + eps)\n",
        "            wprob2 = (1 - self.w) * self.g2.pdf(x) #/ (denominator + eps) # <=> 1 - prob1\n",
        "            \n",
        "            denominator = wprob1 + wprob2\n",
        "            wprob1 /= denominator # P(c_1|x)\n",
        "            wprob2 /= denominator # P(c_2|x)\n",
        "            \n",
        "            self.loglike += math.log(wprob1 + wprob2)\n",
        "            wprobs1.append(wprob1)\n",
        "            wprobs2.append(wprob2)\n",
        "        return wprobs1, wprobs2 # (B, ), (B, )\n",
        "        \n",
        "        \n",
        "    def M(self, wprobs1, wprobs2):\n",
        "        '''\n",
        "            wprobs1 is a list of w * P(c_1|x)\n",
        "            wprobs2 is a list of (1 - w) * P(c_2|x)\n",
        "        '''\n",
        "#         wprobs1 = np.array(wprobs1) # (B, )\n",
        "        w1 = np.array(wprobs1) # (B, )\n",
        "#         wprobs2 = np.array(wprobs2) # (B, )\n",
        "        w2 = np.array(wprobs2) # (B, )\n",
        "        \n",
        "#         eps = 1e-20 # prevent any denominator from being 0\n",
        "        eps = 0\n",
        "#         w1 = wprobs1 #/ (np.sum(wprobs1) + eps) # w_1, (B, )\n",
        "#         w2 = wprobs2 #/ (np.sum(wprobs2) + eps) # w_2, (B, )\n",
        "        self.g1.mu = np.sum(w1 * self.data) / (np.sum(w1) + eps) # (B, )\n",
        "        self.g2.mu = np.sum(w2 * self.data) / (np.sum(w2) + eps)\n",
        "\n",
        "        self.g1.sigma = np.sqrt(np.sum(w1 * ((self.data - self.g1.mu) ** 2)) / (np.sum(w1) + eps) + eps) # !!! DO NOT FORGET SQRT\n",
        "        self.g2.sigma = np.sqrt(np.sum(w2 * ((self.data - self.g2.mu) ** 2)) / (np.sum(w2) + eps) + eps)\n",
        "        \n",
        "        self.w = np.sum(w1) / len(w1)\n",
        "\n",
        "    def fit(self):\n",
        "        wprobs1, wprobs2 = self.E()\n",
        "        self.M(wprobs1, wprobs2)\n",
        "\n",
        "    def pdf(self, x):\n",
        "        return self.w * self.g1.pdf(x) + (1 - self.w) * self.g2.pdf(x)\n",
        "      \n",
        "      \n",
        "\n"
      ],
      "execution_count": 0,
      "outputs": []
    },
    {
      "cell_type": "code",
      "metadata": {
        "id": "zbUzy1zjf-vB",
        "colab_type": "code",
        "outputId": "81d8fc86-ee7c-41fd-f93b-a88ae4e70464",
        "colab": {
          "base_uri": "https://localhost:8080/",
          "height": 447
        }
      },
      "source": [
        "num_random_starts = 500\n",
        "num_epochs = 20\n",
        "\n",
        "max_loglike = -math.inf\n",
        "best_model = None\n",
        "for it in range(num_random_starts):\n",
        "    model = GMM(np.array(data))\n",
        "    for epoch in range(num_epochs):\n",
        "        try:\n",
        "            model.fit()\n",
        "    \n",
        "            if model.loglike > max_loglike:\n",
        "                max_loglike = model.loglike\n",
        "                best_model = model\n",
        "                best_index = it\n",
        "    \n",
        "    \n",
        "        except (ZeroDivisionError, ValueError, RuntimeWarning):\n",
        "            pass\n",
        "    \n",
        "\n",
        "# ----------------- draw --------------------\n",
        "sns.distplot(data,  bins=20, kde=False, norm_hist=True)\n",
        "x = np.linspace(-5, 6, 1000)\n",
        "plt.plot(x, best_model.pdf(x), label='Gaussian Mixture Function')\n",
        "plt.legend()"
      ],
      "execution_count": 8,
      "outputs": [
        {
          "output_type": "stream",
          "text": [
            "/usr/local/lib/python3.6/dist-packages/ipykernel_launcher.py:38: RuntimeWarning: invalid value encountered in double_scalars\n",
            "/usr/local/lib/python3.6/dist-packages/ipykernel_launcher.py:39: RuntimeWarning: invalid value encountered in double_scalars\n",
            "/usr/local/lib/python3.6/dist-packages/ipykernel_launcher.py:10: RuntimeWarning: divide by zero encountered in double_scalars\n",
            "  # Remove the CWD from sys.path while we load stuff.\n",
            "/usr/local/lib/python3.6/dist-packages/ipykernel_launcher.py:11: RuntimeWarning: invalid value encountered in double_scalars\n",
            "  # This is added back by InteractiveShellApp.init_path()\n",
            "/usr/local/lib/python3.6/dist-packages/ipykernel_launcher.py:10: RuntimeWarning: invalid value encountered in double_scalars\n",
            "  # Remove the CWD from sys.path while we load stuff.\n"
          ],
          "name": "stderr"
        },
        {
          "output_type": "execute_result",
          "data": {
            "text/plain": [
              "<matplotlib.legend.Legend at 0x7f8bc0ed8278>"
            ]
          },
          "metadata": {
            "tags": []
          },
          "execution_count": 8
        },
        {
          "output_type": "display_data",
          "data": {
            "image/png": "[encoded data removed]",
            "text/plain": [
              "<Figure size 432x288 with 1 Axes>"
            ]
          },
          "metadata": {
            "tags": []
          }
        }
      ]
    }
  ]
}