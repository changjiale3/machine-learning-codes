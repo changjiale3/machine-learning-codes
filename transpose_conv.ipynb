{
 "cells": [
  {
   "cell_type": "markdown",
   "metadata": {},
   "source": [
    "Transpose Conv Operation Simple Explanation"
   ]
  },
  {
   "cell_type": "code",
   "execution_count": 2,
   "metadata": {},
   "outputs": [],
   "source": [
    "import numpy as np"
   ]
  },
  {
   "cell_type": "code",
   "execution_count": 3,
   "metadata": {},
   "outputs": [
    {
     "name": "stdout",
     "output_type": "stream",
     "text": [
      "[[4. 5. 8. 7.]\n",
      " [1. 8. 8. 8.]\n",
      " [3. 6. 6. 4.]\n",
      " [6. 5. 7. 8.]]\n"
     ]
    }
   ],
   "source": [
    "input = np.array([[4, 5, 8, 7], [1, 8, 8, 8], [3, 6, 6, 4], [6, 5, 7, 8]], np.float32)\n",
    "print(input)"
   ]
  },
  {
   "cell_type": "code",
   "execution_count": 4,
   "metadata": {},
   "outputs": [
    {
     "name": "stdout",
     "output_type": "stream",
     "text": [
      "[[1. 4. 1.]\n",
      " [1. 4. 3.]\n",
      " [3. 3. 1.]]\n"
     ]
    }
   ],
   "source": [
    "kernel = np.array([[1, 4, 1], [1, 4, 3], [3, 3, 1]], np.float32)\n",
    "print(kernel)"
   ]
  },
  {
   "cell_type": "code",
   "execution_count": 5,
   "metadata": {},
   "outputs": [
    {
     "name": "stdout",
     "output_type": "stream",
     "text": [
      "[[0. 0.]\n",
      " [0. 0.]]\n"
     ]
    }
   ],
   "source": [
    "output = np.zeros((2, 2), np.float32)\n",
    "print(output)"
   ]
  },
  {
   "cell_type": "code",
   "execution_count": 6,
   "metadata": {},
   "outputs": [
    {
     "name": "stdout",
     "output_type": "stream",
     "text": [
      "[[122. 148.]\n",
      " [126. 134.]]\n"
     ]
    }
   ],
   "source": [
    "# conv operation\n",
    "for i in range(2):\n",
    "    for j in range(2):\n",
    "        output[i][j] = np.sum(input[i:i+3, j:j+3] * kernel)\n",
    "print(output)"
   ]
  },
  {
   "cell_type": "code",
   "execution_count": 7,
   "metadata": {},
   "outputs": [
    {
     "name": "stdout",
     "output_type": "stream",
     "text": [
      "[[1. 4. 1. 0. 1. 4. 3. 0. 3. 3. 1. 0. 0. 0. 0. 0.]\n",
      " [0. 1. 4. 1. 0. 1. 4. 3. 0. 3. 3. 1. 0. 0. 0. 0.]\n",
      " [0. 0. 0. 0. 1. 4. 1. 0. 1. 4. 3. 0. 3. 3. 1. 0.]\n",
      " [0. 0. 0. 0. 0. 1. 4. 1. 0. 1. 4. 3. 0. 3. 3. 1.]]\n"
     ]
    }
   ],
   "source": [
    "# construct a conv matrix that produces the same result as the kernel\n",
    "# Padding the kernel to a matrix with the shape of (4 = 2x2, 16 = 4x4)\n",
    "kernel_matrix = np.array([[1, 4, 1, 0, 1, 4, 3, 0, 3, 3, 1, 0, 0, 0, 0, 0], [0, 1, 4, 1, 0, 1, 4, 3, 0, 3, 3, 1, 0, 0, 0, 0], [0, 0, 0, 0, 1, 4, 1, 0, 1, 4, 3, 0, 3, 3, 1, 0], [0, 0, 0, 0, 0, 1, 4, 1, 0, 1, 4, 3, 0, 3, 3, 1]], np.float32)\n",
    "print(kernel_matrix)"
   ]
  },
  {
   "cell_type": "code",
   "execution_count": 8,
   "metadata": {
    "scrolled": false
   },
   "outputs": [
    {
     "name": "stdout",
     "output_type": "stream",
     "text": [
      "[[122. 148.]\n",
      " [126. 134.]]\n",
      "[[ True  True]\n",
      " [ True  True]]\n"
     ]
    }
   ],
   "source": [
    "# obtain the same result\n",
    "output2 = np.matmul(kernel_matrix, input.reshape(16, 1)).reshape(2, 2)\n",
    "print(output2)\n",
    "print(output == output2)"
   ]
  },
  {
   "cell_type": "markdown",
   "metadata": {},
   "source": [
    "The Conv Operation actually produces a 2x2=4x1 matrix from 4x4=16x1 matrix which can be implemented with (4, 16) matrix by matrix multiplication.\n",
    "Thus, a (16, 4) matrix can also produces a 4x4=16x1 matrix from 2x2=4x1 matrix and this is the transpose convolution."
   ]
  },
  {
   "cell_type": "markdown",
   "metadata": {},
   "source": [
    "## Look at what torch does"
   ]
  },
  {
   "cell_type": "code",
   "execution_count": 2,
   "metadata": {},
   "outputs": [
    {
     "name": "stdout",
     "output_type": "stream",
     "text": [
      "cnn.weight:\n",
      "Parameter containing:\n",
      "tensor([[[[1., 4., 1.],\n",
      "          [1., 4., 3.],\n",
      "          [3., 3., 1.]]]], requires_grad=True)\n"
     ]
    },
    {
     "data": {
      "text/plain": [
       "tensor([[[[122., 148.],\n",
       "          [126., 134.]]]], grad_fn=<ThnnConv2DBackward>)"
      ]
     },
     "execution_count": 2,
     "metadata": {},
     "output_type": "execute_result"
    }
   ],
   "source": [
    "import torch\n",
    "import numpy as np\n",
    "\n",
    "cnn = torch.nn.Conv2d(1, 1, 3, 1, 0, bias=False)\n",
    "kernel = np.array([[1, 4, 1], [1, 4, 3], [3, 3, 1]], np.float32)\n",
    "def init_weights(m):\n",
    "    class_name = m.__class__.__name__\n",
    "    if class_name.find('Conv') != -1:\n",
    "        m.weight.data.copy_(torch.from_numpy(kernel))\n",
    "\n",
    "cnn.apply(init_weights)\n",
    "print('cnn.weight:')\n",
    "print(cnn.weight)\n",
    "input = np.array([[4, 5, 8, 7], [1, 8, 8, 8], [3, 6, 6, 4], [6, 5, 7, 8]], np.float32)\n",
    "img = torch.from_numpy(input).unsqueeze(0).unsqueeze(0)\n",
    "cnn(img)"
   ]
  },
  {
   "cell_type": "markdown",
   "metadata": {},
   "source": [
    "The result is the same."
   ]
  },
  {
   "cell_type": "markdown",
   "metadata": {},
   "source": [
    "### Transposed Convolution in PyTorch"
   ]
  },
  {
   "cell_type": "code",
   "execution_count": 31,
   "metadata": {},
   "outputs": [
    {
     "name": "stdout",
     "output_type": "stream",
     "text": [
      "tcnn.weight:\n",
      "Parameter containing:\n",
      "tensor([[[[1., 2., 3.],\n",
      "          [4., 5., 6.],\n",
      "          [7., 8., 9.]]]], requires_grad=True)\n",
      "input:\n",
      "[[1. 2.]\n",
      " [3. 4.]]\n"
     ]
    },
    {
     "data": {
      "text/plain": [
       "tensor([[[[ 1.,  4.,  7.,  6.],\n",
       "          [ 7., 23., 33., 24.],\n",
       "          [19., 53., 63., 42.],\n",
       "          [21., 52., 59., 36.]]]], grad_fn=<ThnnConvTranspose2DBackward>)"
      ]
     },
     "execution_count": 31,
     "metadata": {},
     "output_type": "execute_result"
    }
   ],
   "source": [
    "# pytorch\n",
    "tcnn = torch.nn.ConvTranspose2d(1, 1, 3, 1, 0, bias=False)\n",
    "kernel = np.array([[1, 2, 3], [4, 5, 6], [7, 8, 9]], np.float32)\n",
    "def init_weights(m):\n",
    "    class_name = m.__class__.__name__\n",
    "    if class_name.find('Conv') != -1:\n",
    "        m.weight.data.copy_(torch.from_numpy(kernel))\n",
    "\n",
    "tcnn.apply(init_weights)\n",
    "print('tcnn.weight:')\n",
    "print(tcnn.weight)\n",
    "input = np.array([[1, 2], [3, 4]], np.float32)\n",
    "print('input:')\n",
    "print(input)\n",
    "img = torch.from_numpy(input).unsqueeze(0).unsqueeze(0)\n",
    "tcnn(img)"
   ]
  },
  {
   "cell_type": "code",
   "execution_count": 45,
   "metadata": {},
   "outputs": [
    {
     "name": "stdout",
     "output_type": "stream",
     "text": [
      "input:\n",
      "[[1. 2.]\n",
      " [3. 4.]]\n",
      "kernel:\n",
      "[[1. 2. 3.]\n",
      " [4. 5. 6.]\n",
      " [7. 8. 9.]]\n",
      "output:\n",
      "[[ 1.  4.  7.  6.]\n",
      " [ 7. 23. 33. 24.]\n",
      " [19. 53. 63. 42.]\n",
      " [21. 52. 59. 36.]]\n"
     ]
    }
   ],
   "source": [
    "# Mine\n",
    "print('input:')\n",
    "print(input)\n",
    "\n",
    "print('kernel:')\n",
    "print(kernel)\n",
    "output = np.zeros((4, 4), np.float32)\n",
    "# traverse each element of input image\n",
    "for i in range(2):\n",
    "    for j in range(2):\n",
    "        output[i:i+3, j:j+3] += input[i, j] * kernel\n",
    "print('output:')\n",
    "print(output)"
   ]
  },
  {
   "cell_type": "markdown",
   "metadata": {},
   "source": [
    "So PyTorch simple multiplies each element in the input with the kernel and add them together."
   ]
  }
 ],
 "metadata": {
  "kernelspec": {
   "display_name": "Python 3",
   "language": "python",
   "name": "python3"
  },
  "language_info": {
   "codemirror_mode": {
    "name": "ipython",
    "version": 3
   },
   "file_extension": ".py",
   "mimetype": "text/x-python",
   "name": "python",
   "nbconvert_exporter": "python",
   "pygments_lexer": "ipython3",
   "version": "3.6.4"
  }
 },
 "nbformat": 4,
 "nbformat_minor": 2
}
