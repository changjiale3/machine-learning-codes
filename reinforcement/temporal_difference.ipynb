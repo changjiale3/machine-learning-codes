{
 "cells": [
  {
   "cell_type": "markdown",
   "metadata": {},
   "source": [
    "# Temporal Difference"
   ]
  },
  {
   "cell_type": "markdown",
   "metadata": {},
   "source": [
    "## SARSA"
   ]
  },
  {
   "cell_type": "markdown",
   "metadata": {},
   "source": [
    "$q_t(s, a) = q_{t-1}(s, a) + \\frac{1}{N}[r(s^{\\prime}) + \\gamma \\times q(s^{\\prime}, a^{\\prime}) - q_{t-1}(s, a)]$"
   ]
  },
  {
   "cell_type": "code",
   "execution_count": 1,
   "metadata": {},
   "outputs": [],
   "source": [
    "import numpy as np\n",
    "from snake import *"
   ]
  },
  {
   "cell_type": "code",
   "execution_count": 13,
   "metadata": {},
   "outputs": [],
   "source": [
    "class SARSA(object):\n",
    "    @staticmethod\n",
    "    def _sarsa_eval(agent, env, epsilon):\n",
    "        '''update action-value function'''\n",
    "        # move on\n",
    "        state = env.reset()\n",
    "        prev_act = -1\n",
    "        prev_state = -1\n",
    "        while True:\n",
    "            act = agent.play(state, epsilon)\n",
    "            state, reward, done, _ = env.step(act) \n",
    "            # reward: future reward regarding with action-value function\n",
    "            # agent.value_sa[state][act]: future action value\n",
    "            # agent.value_sa[prev_state][prev_act]: previous action value\n",
    "            \n",
    "            # update action-value function\n",
    "            if prev_act != -1:\n",
    "                future_ret = reward + agent.gamma * (0 if done else agent.value_sa[state][act])\n",
    "                agent.value_n[prev_state, prev_act] += 1\n",
    "                N = agent.value_n[prev_state, prev_act]\n",
    "                agent.value_sa[prev_state, prev_act] += (future_ret - agent.value_sa[prev_state, prev_act]) / N\n",
    "        \n",
    "            prev_act = act\n",
    "            prev_state = state\n",
    "        \n",
    "            if done:\n",
    "                break\n",
    "        \n",
    "        \n",
    "    @staticmethod\n",
    "    def _policy_improvement(agent):\n",
    "        '''update policy'''\n",
    "        new_policy = np.zeros_like(agent.pi) # (action_size, state_size, state_size)\n",
    "        for s in range(1, agent.state_size):\n",
    "            new_policy[s] = np.argmax(agent.value_sa[s, :]) # select the max action !!! not [s, a], but [s, :]\n",
    "        if np.all(np.equal(new_policy, agent.pi)):\n",
    "            return True # converge\n",
    "        else:\n",
    "            agent.pi = new_policy\n",
    "            return False # not converge\n",
    "    \n",
    "    @staticmethod\n",
    "    def sarsa_opt(agent, env, epsilon=0.0):\n",
    "        for i in range(10):\n",
    "            for j in range(2000): # more evaluation iterations than Monte Carlo !!!\n",
    "                SARSA._sarsa_eval(agent, env, epsilon=epsilon)\n",
    "            SARSA._policy_improvement(agent)"
   ]
  },
  {
   "cell_type": "code",
   "execution_count": 29,
   "metadata": {},
   "outputs": [
    {
     "name": "stdout",
     "output_type": "stream",
     "text": [
      "return: 89\n",
      "[0 1 1 1 1 1 1 1 1 1 1 1 1 1 1 1 1 1 0 0 0 1 1 1 1 1 1 1 1 1 1 1 1 1 1 1 1\n",
      " 1 1 0 1 1 1 1 1 1 1 1 1 1 1 1 1 1 1 1 1 1 1 1 1 1 1 1 1 1 1 1 1 1 1 1 1 1\n",
      " 1 1 1 1 1 1 1 1 1 1 1 1 1 1 1 1 1 1 1 1 1 1 0 0 0 0 0]\n"
     ]
    }
   ],
   "source": [
    "np.random.seed(3)\n",
    "env = SnakeEnv(10, [3, 6])\n",
    "agent = ModelFreeAgent(env)\n",
    "SARSA.sarsa_opt(agent, env)\n",
    "print('return:', eval_game(env, agent))\n",
    "print(agent.pi)"
   ]
  },
  {
   "cell_type": "markdown",
   "metadata": {},
   "source": [
    "## Q Learning"
   ]
  },
  {
   "cell_type": "markdown",
   "metadata": {},
   "source": [
    "$q_t(s, a) = q_{t-1}(s, a) + \\frac{1}{N}[r(s^{\\prime}) + \\gamma \\times \\max_{a^{\\prime}}q(s^{\\prime}, a^{\\prime}) - q_{t-1}(s, a)]$"
   ]
  },
  {
   "cell_type": "code",
   "execution_count": 30,
   "metadata": {},
   "outputs": [],
   "source": [
    "class QLearning(object):\n",
    "    @staticmethod\n",
    "    def _q_learning_eval(agent, env, epsilon):\n",
    "        '''update action-value function'''\n",
    "        # move on\n",
    "        state = env.reset()\n",
    "        prev_act = -1\n",
    "        prev_state = -1\n",
    "        while True:\n",
    "            act = agent.play(state, epsilon)\n",
    "            state, reward, done, _ = env.step(act) \n",
    "            # reward: future reward regarding with action-value function\n",
    "            # agent.value_sa[state][act]: future action value\n",
    "            # agent.value_sa[prev_state][prev_act]: previous action value\n",
    "            \n",
    "            # update action-value function\n",
    "            if prev_act != -1:\n",
    "                future_ret = reward + agent.gamma * (0 if done else np.max(agent.value_sa[state, :]))\n",
    "\n",
    "                agent.value_n[prev_state, prev_act] += 1\n",
    "                N = agent.value_n[prev_state, prev_act]\n",
    "                agent.value_sa[prev_state, prev_act] += (future_ret - agent.value_sa[prev_state, prev_act]) / N\n",
    "        \n",
    "            prev_act = act\n",
    "            prev_state = state\n",
    "        \n",
    "            if done:\n",
    "                break\n",
    "        \n",
    "        \n",
    "    @staticmethod\n",
    "    def _policy_improvement(agent):\n",
    "        '''update policy'''\n",
    "        new_policy = np.zeros_like(agent.pi) # (action_size, state_size, state_size)\n",
    "        for s in range(1, agent.state_size):\n",
    "            new_policy[s] = np.argmax(agent.value_sa[s, :]) # select the max action !!! not [s, a], but [s, :]\n",
    "        if np.all(np.equal(new_policy, agent.pi)):\n",
    "            return True # converge\n",
    "        else:\n",
    "            agent.pi = new_policy\n",
    "            return False # not converge\n",
    "    \n",
    "    @staticmethod\n",
    "    def q_learning_opt(agent, env, epsilon=0.0):\n",
    "        for i in range(10):\n",
    "            for j in range(4000): # more evaluation iterations than Monte Carlo !!!\n",
    "                QLearning._q_learning_eval(agent, env, epsilon=epsilon)\n",
    "            QLearning._policy_improvement(agent)"
   ]
  },
  {
   "cell_type": "code",
   "execution_count": 31,
   "metadata": {},
   "outputs": [
    {
     "name": "stdout",
     "output_type": "stream",
     "text": [
      "return: 89\n",
      "[0 0 0 0 0 0 0 1 1 1 1 1 1 1 1 1 1 1 0 0 0 0 0 0 0 0 0 0 0 0 1 1 1 1 1 1 1\n",
      " 1 1 0 1 1 1 1 1 0 0 0 0 1 1 1 0 0 0 0 0 0 0 1 1 0 1 1 1 1 1 1 1 1 0 0 0 1\n",
      " 0 0 0 0 0 0 1 0 0 1 1 1 1 1 1 1 1 1 1 1 1 1 1 0 0 0 0]\n"
     ]
    }
   ],
   "source": [
    "np.random.seed(3)\n",
    "env = SnakeEnv(10, [3, 6])\n",
    "agent = ModelFreeAgent(env)\n",
    "QLearning.q_learning_opt(agent, env)\n",
    "print('return:', eval_game(env, agent))\n",
    "print(agent.pi)"
   ]
  },
  {
   "cell_type": "code",
   "execution_count": null,
   "metadata": {},
   "outputs": [],
   "source": []
  }
 ],
 "metadata": {
  "kernelspec": {
   "display_name": "Python 3",
   "language": "python",
   "name": "python3"
  },
  "language_info": {
   "codemirror_mode": {
    "name": "ipython",
    "version": 3
   },
   "file_extension": ".py",
   "mimetype": "text/x-python",
   "name": "python",
   "nbconvert_exporter": "python",
   "pygments_lexer": "ipython3",
   "version": "3.6.4"
  }
 },
 "nbformat": 4,
 "nbformat_minor": 2
}
