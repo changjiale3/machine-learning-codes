{
 "cells": [
  {
   "cell_type": "code",
   "execution_count": 1,
   "metadata": {},
   "outputs": [],
   "source": [
    "import numpy as np\n",
    "from snake import *"
   ]
  },
  {
   "cell_type": "code",
   "execution_count": 2,
   "metadata": {},
   "outputs": [],
   "source": [
    "class MonteCarlo(object):\n",
    "    @staticmethod\n",
    "    def _monte_carlo_eval(agent, env, epsilon):\n",
    "        '''update action-value function'''\n",
    "        # get (state, action, reward) list\n",
    "        s = env.reset()\n",
    "        sample = list()\n",
    "        while True:\n",
    "            a = agent.play(s, epsilon)\n",
    "            s, r, done, _ = env.step(a)\n",
    "            sample.append((s, a, r))\n",
    "            if done:\n",
    "                break\n",
    "        \n",
    "        # discounted reward\n",
    "        new_sample = list()\n",
    "        return_val = 0\n",
    "        for s, a, r in reversed(sample):\n",
    "            return_val = return_val * agent.gamma + r\n",
    "            new_sample.append((s, a, return_val))\n",
    "        sample = reversed(new_sample)\n",
    "        \n",
    "        # update update action-value function\n",
    "        for s, a, r in sample:\n",
    "            agent.value_n[s, a] += 1 # increase by 1\n",
    "            N = agent.value_n[s, a]\n",
    "            agent.value_sa[s, a] += (r - agent.value_sa[s, a]) / N\n",
    "        \n",
    "    @staticmethod\n",
    "    def _policy_improvement(agent):\n",
    "        '''update policy'''\n",
    "        new_policy = np.zeros_like(agent.pi) # (action_size, state_size, state_size)\n",
    "        for s in range(1, agent.state_size):\n",
    "            new_policy[s] = np.argmax(agent.value_sa[s, :]) # select the max action !!! not [s, a], but [s, :]\n",
    "        if np.all(np.equal(new_policy, agent.pi)):\n",
    "            return True # converge\n",
    "        else:\n",
    "            agent.pi = new_policy\n",
    "            return False # not converge\n",
    "    \n",
    "    @staticmethod\n",
    "    def monte_carlo_opt(agent, env, epsilon=0.0):\n",
    "        for i in range(10):\n",
    "            for j in range(100):\n",
    "                MonteCarlo._monte_carlo_eval(agent, env, epsilon=epsilon)\n",
    "            MonteCarlo._policy_improvement(agent)"
   ]
  },
  {
   "cell_type": "markdown",
   "metadata": {},
   "source": [
    "### Test"
   ]
  },
  {
   "cell_type": "markdown",
   "metadata": {},
   "source": [
    "Case 1: naive monte carlo"
   ]
  },
  {
   "cell_type": "code",
   "execution_count": 3,
   "metadata": {},
   "outputs": [
    {
     "name": "stdout",
     "output_type": "stream",
     "text": [
      "return: 86\n",
      "[0 1 1 1 1 1 1 1 1 0 1 1 1 1 0 1 0 0 0 1 1 1 1 1 1 1 1 1 1 1 1 1 1 1 1 1 1\n",
      " 1 1 0 0 0 1 0 1 1 1 1 1 1 1 0 1 1 0 0 0 1 1 1 1 1 1 1 1 1 1 1 1 1 1 1 0 0\n",
      " 1 1 1 0 0 1 1 1 1 1 1 1 1 1 1 1 1 1 1 1 0 1 1 0 0 0 0]\n"
     ]
    }
   ],
   "source": [
    "np.random.seed(3)\n",
    "env = SnakeEnv(10, [3, 6])\n",
    "agent = ModelFreeAgent(env)\n",
    "MonteCarlo.monte_carlo_opt(agent, env)\n",
    "print('return:', eval_game(env, agent))\n",
    "print(agent.pi)"
   ]
  },
  {
   "cell_type": "markdown",
   "metadata": {},
   "source": [
    "Case 2: $\\epsilon$-greedy: getting more real samples"
   ]
  },
  {
   "cell_type": "code",
   "execution_count": 4,
   "metadata": {},
   "outputs": [
    {
     "name": "stdout",
     "output_type": "stream",
     "text": [
      "return: 95\n",
      "[0 1 1 1 0 1 0 1 1 1 1 1 1 1 1 0 1 0 1 1 0 1 0 0 1 1 1 1 1 1 1 1 0 1 1 0 1\n",
      " 1 1 0 0 0 1 1 1 1 1 1 1 1 1 1 1 1 1 1 1 1 1 1 1 1 1 1 1 1 1 1 1 1 1 1 1 1\n",
      " 1 0 1 1 1 1 1 1 1 1 1 1 1 1 1 1 1 1 1 1 1 1 1 0 0 0 0]\n"
     ]
    }
   ],
   "source": [
    "np.random.seed(3)\n",
    "env = SnakeEnv(10, [3, 6])\n",
    "agent = ModelFreeAgent(env)\n",
    "MonteCarlo.monte_carlo_opt(agent, env, epsilon=0.05)\n",
    "print('return:', eval_game(env, agent))\n",
    "print(agent.pi)"
   ]
  }
 ],
 "metadata": {
  "kernelspec": {
   "display_name": "Python 3",
   "language": "python",
   "name": "python3"
  },
  "language_info": {
   "codemirror_mode": {
    "name": "ipython",
    "version": 3
   },
   "file_extension": ".py",
   "mimetype": "text/x-python",
   "name": "python",
   "nbconvert_exporter": "python",
   "pygments_lexer": "ipython3",
   "version": "3.6.4"
  }
 },
 "nbformat": 4,
 "nbformat_minor": 2
}
