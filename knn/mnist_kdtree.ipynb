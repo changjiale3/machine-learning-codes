{
 "cells": [
  {
   "cell_type": "markdown",
   "metadata": {},
   "source": [
    "# kd-tree implementation for KNN"
   ]
  },
  {
   "cell_type": "markdown",
   "metadata": {},
   "source": [
    "Reference: [github](https://github.com/Vectorized/Python-KD-Tree)"
   ]
  },
  {
   "cell_type": "markdown",
   "metadata": {},
   "source": [
    "Step 1: Import packages."
   ]
  },
  {
   "cell_type": "code",
   "execution_count": 1,
   "metadata": {},
   "outputs": [
    {
     "name": "stderr",
     "output_type": "stream",
     "text": [
      "/home/orris/anaconda3/lib/python3.6/site-packages/sklearn/cross_validation.py:41: DeprecationWarning: This module was deprecated in version 0.18 in favor of the model_selection module into which all the refactored classes and functions are moved. Also note that the interface of the new CV iterators are different from that of this module. This module will be removed in 0.20.\n",
      "  \"This module will be removed in 0.20.\", DeprecationWarning)\n"
     ]
    }
   ],
   "source": [
    "import random\n",
    "import heapq\n",
    "import time\n",
    "import numpy as np\n",
    "from operator import itemgetter\n",
    "import pandas as pd\n",
    "from sklearn.cross_validation import train_test_split\n",
    "import cv2\n",
    "import tqdm"
   ]
  },
  {
   "cell_type": "markdown",
   "metadata": {},
   "source": [
    "Step 2: Prepare data(extract hog features)."
   ]
  },
  {
   "cell_type": "code",
   "execution_count": 2,
   "metadata": {},
   "outputs": [
    {
     "name": "stdout",
     "output_type": "stream",
     "text": [
      "(324,)\n"
     ]
    }
   ],
   "source": [
    "raw_data = pd.read_csv('../data/train.csv', header=0)\n",
    "data = raw_data.values\n",
    "imgs = data[0:, 1:] # for one row, the first column is the label followed by the image data\n",
    "imgs = imgs.astype(np.uint8)\n",
    "labels = data[:, 0]\n",
    "features = np.zeros((imgs.shape[0], 324))\n",
    "\n",
    "hog = cv2.HOGDescriptor('../data/hog.xml')\n",
    "for index in range(len(imgs)):\n",
    "    features[index] = hog.compute(imgs[index].reshape(28, 28)).squeeze()\n",
    "\n",
    "print(features[0].shape)\n",
    "    \n",
    "# 选取 2/3 数据作为训练集， 1/3 数据作为测试集\n",
    "x_train, x_test, y_train, y_test = train_test_split(features, labels, test_size=0.33, random_state=23323)\n",
    "\n",
    "x_test = x_test[:500]\n",
    "y_test = y_test[:500]"
   ]
  },
  {
   "cell_type": "markdown",
   "metadata": {},
   "source": [
    "Step 3: Build model."
   ]
  },
  {
   "cell_type": "code",
   "execution_count": 3,
   "metadata": {},
   "outputs": [],
   "source": [
    "class KNN(object):\n",
    "    def __init__(self, x_train, y_train):\n",
    "        '''\n",
    "            x_train: (num_data, num_dims)\n",
    "            y_train: (num_data, )\n",
    "            self.xy: (num_data, num_dims + 1)\n",
    "        '''\n",
    "        self.xy = np.zeros((x_train.shape[0], x_train.shape[1] + 1), dtype=float)\n",
    "        self.xy[:, :-1] = x_train\n",
    "        self.xy[:, -1] = y_train\n",
    "        self.num_dims = x_train.shape[1]\n",
    "        self.kdtree = self.create_kdtree(self.xy)\n",
    "        self.num_classes = len(set(y_train))\n",
    "    \n",
    "    def euclidean_distance(self, point1, point2):\n",
    "        return np.sqrt(np.sum((point1 - point2) ** 2))\n",
    "    \n",
    "    def get_neighbors_naive(self, x_test, k):\n",
    "        neighbors = list()\n",
    "        for feature in tqdm.tqdm(x_test):\n",
    "            curr_res = [(self.euclidean_distance(xy[:-1], feature), list(xy[:-1])) for xy in self.xy]\n",
    "            neighbors.append(sorted(curr_res)[:k])\n",
    "        return neighbors\n",
    "    \n",
    "    def create_kdtree(self, points, i=0):\n",
    "        if len(points) == 1:\n",
    "            return (None, None, points[0])\n",
    "        elif len(points) == 0:\n",
    "            return None\n",
    "        points = sorted(points, key=lambda x: x[i])\n",
    "        middle = len(points) // 2\n",
    "        i = (i + 1) % self.num_dims\n",
    "        return (self.create_kdtree(points[:middle], i), self.create_kdtree(points[middle + 1:], i), points[middle])\n",
    "    \n",
    "    def get_neighbors_kdtree_single(self, node, point, k, i=0, heap=None):\n",
    "        '''\n",
    "            point: (num_dims)\n",
    "            curr_xy: (num_dims + 1)\n",
    "        '''\n",
    "        if node == None:\n",
    "            return None\n",
    "        left_node, right_node, curr_xy = node\n",
    "        dist = self.euclidean_distance(point, curr_xy[:-1])\n",
    "        dx = point[i] - curr_xy[i]\n",
    "        if not heap:\n",
    "            heap = list()\n",
    "        # add curr_point to k list\n",
    "        if len(heap) < k:\n",
    "            heapq.heappush(heap, (-dist, curr_xy))\n",
    "        elif dist < -heap[0][0]:\n",
    "            heapq.heappushpop(heap, (-dist, curr_xy))\n",
    "        \n",
    "        i = (i + 1) % self.num_dims\n",
    "        \n",
    "        # updown\n",
    "        if dx < 0:\n",
    "            self.get_neighbors_kdtree_single(left_node, point, k, i, heap)\n",
    "        else:\n",
    "            self.get_neighbors_kdtree_single(right_node, point, k, i, heap)\n",
    "        \n",
    "        # downup\n",
    "        if abs(dx) < -heap[0][0]: # if another area is covered, the other child should be visited\n",
    "            if dx < 0:\n",
    "                self.get_neighbors_kdtree_single(right_node, point, k, i, heap)\n",
    "            else:\n",
    "                self.get_neighbors_kdtree_single(left_node, point, k, i, heap)\n",
    "        \n",
    "        return [(-neg_dist, list(xy)) for (neg_dist, xy) in sorted(heap, key=lambda x: -1 * x[0])]\n",
    "    \n",
    "    def get_neighbors_kdtree(self, x_test, k):\n",
    "        res = list()\n",
    "        for feature in tqdm.tqdm(x_test):\n",
    "            res.append(self.get_neighbors_kdtree_single(self.kdtree, feature, k))\n",
    "        return res\n",
    "    \n",
    "    def get_neighbors(self, x_test, k, mode='kdtree'):\n",
    "        if mode == 'naive':\n",
    "            return self.get_neighbors_naive(x_test, k)\n",
    "        elif mode == 'kdtree':\n",
    "            return self.get_neighbors_kdtree(x_test, k)\n",
    "        return None\n",
    "    \n",
    "    def predict(self, x_test, k, mode='kdtree'):\n",
    "        neighbors = self.get_neighbors(x_test, k, mode)\n",
    "        y_predicted = list()\n",
    "        for index in range(len(x_test)):\n",
    "            y_count = dict()\n",
    "            for neighbor in neighbors[index]:\n",
    "                dist, xy = neighbor\n",
    "                y = xy[-1]\n",
    "                y_count[y] = y_count.get(y, 0) + 1\n",
    "            y_pred = sorted(y_count.items(), key=itemgetter(1), reverse=True)[0][0]\n",
    "            y_predicted.append(y_pred)\n",
    "            \n",
    "        return y_predicted"
   ]
  },
  {
   "cell_type": "markdown",
   "metadata": {},
   "source": [
    "Step 4: Get neighbors with naive knn and kdtree knn. / Predict labels."
   ]
  },
  {
   "cell_type": "markdown",
   "metadata": {},
   "source": [
    "*Test Neighbors*"
   ]
  },
  {
   "cell_type": "markdown",
   "metadata": {},
   "source": [
    "Define a useful function that only prints the distances of neighbors"
   ]
  },
  {
   "cell_type": "code",
   "execution_count": 4,
   "metadata": {},
   "outputs": [],
   "source": [
    "def print_dist(neighbors):\n",
    "    for index, neighbor in enumerate(neighbors):\n",
    "        print(index, [dist for dist, _ in neighbor])"
   ]
  },
  {
   "cell_type": "markdown",
   "metadata": {},
   "source": [
    "**1. naive knn**"
   ]
  },
  {
   "cell_type": "code",
   "execution_count": 5,
   "metadata": {},
   "outputs": [
    {
     "name": "stderr",
     "output_type": "stream",
     "text": [
      "100%|██████████| 500/500 [07:56<00:00,  1.09it/s]"
     ]
    },
    {
     "name": "stdout",
     "output_type": "stream",
     "text": [
      "time cost:476.6258080005646s\n",
      "0 [0.9376415984996561, 0.9816037981401295, 1.0399242574178866, 1.0446794591555788, 1.0469156624331093, 1.053519790052552, 1.065016312611107, 1.0923577771706792]\n"
     ]
    },
    {
     "name": "stderr",
     "output_type": "stream",
     "text": [
      "\n"
     ]
    }
   ],
   "source": [
    "knn = KNN(x_train, y_train)\n",
    "t1 = time.time()\n",
    "neighbors1 = knn.get_neighbors(x_test, 8, mode='naive')\n",
    "t2 = time.time()\n",
    "print('time cost:{}s'.format(t2 - t1))\n",
    "print_dist(neighbors1[::1000])"
   ]
  },
  {
   "cell_type": "markdown",
   "metadata": {},
   "source": [
    "**2. kdtree knn**"
   ]
  },
  {
   "cell_type": "code",
   "execution_count": 6,
   "metadata": {},
   "outputs": [
    {
     "name": "stderr",
     "output_type": "stream",
     "text": [
      "100%|██████████| 500/500 [25:36<00:00,  3.06s/it]"
     ]
    },
    {
     "name": "stdout",
     "output_type": "stream",
     "text": [
      "time cost:1536.5977761745453s\n",
      "0 [0.9376415984996561, 0.9816037981401295, 1.0399242574178866, 1.0446794591555788, 1.0469156624331093, 1.053519790052552, 1.065016312611107, 1.0923577771706792]\n"
     ]
    },
    {
     "name": "stderr",
     "output_type": "stream",
     "text": [
      "\n"
     ]
    }
   ],
   "source": [
    "knn = KNN(x_train, y_train)\n",
    "t1 = time.time()\n",
    "neighbors2 = knn.get_neighbors(x_test, 8, mode='kdtree')\n",
    "t2 = time.time()\n",
    "print('time cost:{}s'.format(t2 - t1)) # more time is used. Maybe because the cost of function call\n",
    "print_dist(neighbors2[::1000])"
   ]
  },
  {
   "cell_type": "markdown",
   "metadata": {},
   "source": [
    "*Test label prediction*"
   ]
  },
  {
   "cell_type": "code",
   "execution_count": 7,
   "metadata": {
    "scrolled": true
   },
   "outputs": [
    {
     "name": "stderr",
     "output_type": "stream",
     "text": [
      "100%|██████████| 500/500 [25:14<00:00,  3.11s/it]"
     ]
    },
    {
     "name": "stdout",
     "output_type": "stream",
     "text": [
      "time cost:1514.2618918418884s\n",
      "0.978\n"
     ]
    },
    {
     "name": "stderr",
     "output_type": "stream",
     "text": [
      "\n"
     ]
    }
   ],
   "source": [
    "knn = KNN(x_train, y_train)\n",
    "t1 = time.time()\n",
    "y_predicted = knn.predict(x_test, 8, 'kdtree')\n",
    "t2 = time.time()\n",
    "print('time cost:{}s'.format(t2 - t1))\n",
    "y_predicted = list(map(int, y_predicted))\n",
    "print(sum(np.array(y_predicted) == np.array(y_test)) / len(y_predicted))"
   ]
  },
  {
   "cell_type": "code",
   "execution_count": null,
   "metadata": {},
   "outputs": [],
   "source": []
  }
 ],
 "metadata": {
  "kernelspec": {
   "display_name": "Python 3",
   "language": "python",
   "name": "python3"
  },
  "language_info": {
   "codemirror_mode": {
    "name": "ipython",
    "version": 3
   },
   "file_extension": ".py",
   "mimetype": "text/x-python",
   "name": "python",
   "nbconvert_exporter": "python",
   "pygments_lexer": "ipython3",
   "version": "3.6.4"
  }
 },
 "nbformat": 4,
 "nbformat_minor": 2
}
