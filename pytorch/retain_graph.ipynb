{
 "cells": [
  {
   "cell_type": "markdown",
   "metadata": {},
   "source": [
    "# retain_graph\n",
    "\n",
    "See discussions [here](https://discuss.pytorch.org/t/what-exactly-does-retain-variables-true-in-loss-backward-do/3508/12)\n",
    "\n",
    "![](https://discuss.pytorch.org/uploads/default/optimized/2X/a/aace8d6020dc8652caf356257db5cc06fe793d42_2_1035x306.JPG)\n",
    "\n",
    "`loss = loss1 + loss2; loss.backward()` does the same thing as `loss1.backward(retain_graph=True);loss2.backward()`"
   ]
  },
  {
   "cell_type": "code",
   "execution_count": 1,
   "metadata": {},
   "outputs": [],
   "source": [
    "import torch"
   ]
  },
  {
   "cell_type": "code",
   "execution_count": 2,
   "metadata": {},
   "outputs": [
    {
     "name": "stdout",
     "output_type": "stream",
     "text": [
      "tensor([0.6667, 1.3333, 2.0000])\n"
     ]
    }
   ],
   "source": [
    "x = torch.Tensor([1, 2, 3]).requires_grad_()\n",
    "y = x**2\n",
    "loss1 = torch.mean(y)\n",
    "z = torch.log(y)\n",
    "loss2 = torch.mean(z)\n",
    "loss1.backward()\n",
    "#loss2.backward() # report error\n",
    "print(x.grad)"
   ]
  },
  {
   "cell_type": "code",
   "execution_count": 3,
   "metadata": {},
   "outputs": [
    {
     "name": "stdout",
     "output_type": "stream",
     "text": [
      "tensor([1.3333, 1.6667, 2.2222])\n"
     ]
    }
   ],
   "source": [
    "x = torch.Tensor([1, 2, 3]).requires_grad_()\n",
    "y = x**2\n",
    "loss1 = torch.mean(y)\n",
    "z = torch.log(y)\n",
    "loss2 = torch.mean(z)\n",
    "loss1.backward(retain_graph=True)\n",
    "loss2.backward()\n",
    "print(x.grad)"
   ]
  },
  {
   "cell_type": "code",
   "execution_count": 4,
   "metadata": {},
   "outputs": [
    {
     "name": "stdout",
     "output_type": "stream",
     "text": [
      "tensor([1.3333, 1.6667, 2.2222])\n"
     ]
    }
   ],
   "source": [
    "x = torch.Tensor([1, 2, 3]).requires_grad_()\n",
    "y = x**2\n",
    "loss1 = torch.mean(y)\n",
    "z = torch.log(y)\n",
    "loss2 = torch.mean(z)\n",
    "loss = loss1 + loss2\n",
    "loss.backward()\n",
    "print(x.grad)"
   ]
  }
 ],
 "metadata": {
  "kernelspec": {
   "display_name": "Python 3",
   "language": "python",
   "name": "python3"
  },
  "language_info": {
   "codemirror_mode": {
    "name": "ipython",
    "version": 3
   },
   "file_extension": ".py",
   "mimetype": "text/x-python",
   "name": "python",
   "nbconvert_exporter": "python",
   "pygments_lexer": "ipython3",
   "version": "3.6.4"
  }
 },
 "nbformat": 4,
 "nbformat_minor": 2
}
