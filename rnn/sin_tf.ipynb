{
 "cells": [
  {
   "cell_type": "markdown",
   "metadata": {},
   "source": [
    "# Predict sin function using TensorFlow"
   ]
  },
  {
   "cell_type": "markdown",
   "metadata": {},
   "source": [
    "介绍: 基于sinx的前n个结果,推测下一个结果.最终会绘制出整个预测值,由于预测的时候是按x增长的,所以最后应该绘制出和sinx一样的曲线"
   ]
  },
  {
   "cell_type": "markdown",
   "metadata": {},
   "source": [
    "Step 1: Import packages"
   ]
  },
  {
   "cell_type": "code",
   "execution_count": 1,
   "metadata": {},
   "outputs": [
    {
     "name": "stdout",
     "output_type": "stream",
     "text": [
      "1.10.0\n"
     ]
    }
   ],
   "source": [
    "import tensorflow as tf\n",
    "from matplotlib import pyplot as plt\n",
    "import numpy as np\n",
    "import sys\n",
    "\n",
    "print(tf.__version__)"
   ]
  },
  {
   "cell_type": "markdown",
   "metadata": {},
   "source": [
    "Step 2: Define constans"
   ]
  },
  {
   "cell_type": "code",
   "execution_count": 2,
   "metadata": {},
   "outputs": [
    {
     "data": {
      "text/plain": [
       "['/home/orris/anaconda3/lib/python3.6/site-packages/ipykernel_launcher.py']"
      ]
     },
     "execution_count": 2,
     "metadata": {},
     "output_type": "execute_result"
    }
   ],
   "source": [
    "tf.app.flags.DEFINE_string('f', '', 'kernel') # used in jupyter notebook to prevent error reports\n",
    "\n",
    "tf.flags.DEFINE_integer(\"training_examples\", 10000, \"number of training examples\")\n",
    "tf.flags.DEFINE_integer(\"testing_examples\", 1000, \"number of testing examples\")\n",
    "tf.flags.DEFINE_float(\"sample_gap\", 0.01, \"sample gap\")\n",
    "tf.flags.DEFINE_integer(\"max_time\", 10, \"the max time steps of RNN\")\n",
    "tf.flags.DEFINE_integer(\"lstm_size\", 30, \"number of hidden nodes in RNN\")\n",
    "tf.flags.DEFINE_integer(\"num_layers\", 2, \"number of layers of RNN\")\n",
    "tf.flags.DEFINE_float(\"learning_rate\", 0.1, \"learning rate\")\n",
    "tf.flags.DEFINE_integer(\"num_classes\", 1, \"num of classes\")\n",
    "tf.flags.DEFINE_integer(\"num_epochs\", 3000, \"num of \")\n",
    "tf.flags.DEFINE_float(\"keep_prob\", 1, \"keep prob\")\n",
    "tf.flags.DEFINE_integer(\"embedding_size\", 1, \"embedding size\")\n",
    "tf.flags.DEFINE_integer(\"batch_size\", 64, \"batch size\")\n",
    "tf.flags.DEFINE_integer(\"log_every\", 100, \"log_every\")\n",
    "\n",
    "\n",
    "FLAGS = tf.flags.FLAGS\n",
    "FLAGS(sys.argv) # flags"
   ]
  },
  {
   "cell_type": "markdown",
   "metadata": {},
   "source": [
    "Step 3: Prepare data."
   ]
  },
  {
   "cell_type": "code",
   "execution_count": 3,
   "metadata": {},
   "outputs": [],
   "source": [
    "def generate_data(start_pos, end_pos, total, max_time):\n",
    "    # given start_pos\n",
    "    # given end_pos\n",
    "    # generate xs\n",
    "    xs = np.linspace(start_pos, end_pos, total + max_time, dtype=np.float32)\n",
    "    # generate ys\n",
    "    ys = np.sin(xs)\n",
    "\n",
    "    X = []\n",
    "    y = []\n",
    "\n",
    "    # how many data\n",
    "    for i in range(total):\n",
    "        # generate X from ys\n",
    "        X.append(ys[i:i + max_time,np.newaxis])\n",
    "        # generate y from ys\n",
    "        y.append([ys[i + max_time]])\n",
    "\n",
    "    # return X,y\n",
    "    return np.array(X), np.array(y)"
   ]
  },
  {
   "cell_type": "markdown",
   "metadata": {},
   "source": [
    "Step 4: Build models."
   ]
  },
  {
   "cell_type": "code",
   "execution_count": 4,
   "metadata": {},
   "outputs": [],
   "source": [
    "class Model(object):\n",
    "    def __init__(self,max_time, embedding_size, num_classes, learning_rate, lstm_size, num_layers,X,y):\n",
    "        with tf.name_scope('placeholder'):\n",
    "            # what's the shape of features??? 3d or 2d???\n",
    "            # defines features\n",
    "            #self.features = tf.placeholder(tf.float32,[None,max_time, embedding_size], name='features') \n",
    "            self.features = X\n",
    "            # defines labels\n",
    "            #self.labels = tf.placeholder(tf.float32,[None,num_classes], name='labels')\n",
    "            self.labels = y\n",
    "            self.keep_prob = tf.placeholder(tf.float32, name='keep_prob')\n",
    "            self.learning_rate = learning_rate\n",
    "\n",
    "\n",
    "        def create_lstm_cell(lstm_size, output_keep_prob):\n",
    "            lstm_cell = tf.contrib.rnn.BasicLSTMCell(lstm_size,state_is_tuple=True)\n",
    "            lstm_cell = tf.nn.rnn_cell.DropoutWrapper(lstm_cell, output_keep_prob=output_keep_prob)\n",
    "            return lstm_cell\n",
    "\n",
    "        stacked_lstm = tf.nn.rnn_cell.MultiRNNCell([create_lstm_cell(lstm_size, self.keep_prob) for _ in range(num_layers)])\n",
    "\n",
    "\n",
    "        # calc output\n",
    "        outputs,final_state = tf.nn.dynamic_rnn(stacked_lstm,self.features,dtype=tf.float32)\n",
    "        #output = tf.squeeze(outputs[:,-1,:])\n",
    "        output = outputs[:,-1,:]\n",
    "\n",
    "        # calc y_predicted\n",
    "        #y_predicted = self.nn(final_state[1],num_classes,None,'fully')\n",
    "        self.y_predicted = tf.contrib.layers.fully_connected(output,1,activation_fn=None)\n",
    "        \n",
    "        # defines loss\n",
    "        self.loss = tf.losses.mean_squared_error(labels=self.labels,predictions=self.y_predicted)\n",
    "    \n",
    "        # defines train_op\n",
    "        self.train = tf.contrib.layers.optimize_loss(self.loss,tf.train.get_global_step(),optimizer=\"Adagrad\",learning_rate=self.learning_rate)\n",
    "        \n",
    "        # defines accuracy op\n",
    "        \n",
    "        \n",
    "# train\n",
    "\n"
   ]
  },
  {
   "cell_type": "markdown",
   "metadata": {},
   "source": [
    "Step 5: Train models and evaluate the model."
   ]
  },
  {
   "cell_type": "code",
   "execution_count": 5,
   "metadata": {},
   "outputs": [
    {
     "name": "stdout",
     "output_type": "stream",
     "text": [
      "step 100:loss=0.0026398375630378723\n",
      "step 200:loss=0.002967814914882183\n",
      "step 300:loss=0.001363416900858283\n",
      "step 400:loss=0.001549293752759695\n",
      "step 500:loss=0.0017870449228212237\n",
      "step 600:loss=0.0012620417401194572\n",
      "step 700:loss=0.0012233494780957699\n",
      "step 800:loss=0.0014613026287406683\n",
      "step 900:loss=0.0011496222577989101\n",
      "step 1000:loss=0.0014106733724474907\n",
      "step 1100:loss=0.001060933107510209\n",
      "step 1200:loss=0.001234200899489224\n",
      "step 1300:loss=0.000996486283838749\n",
      "step 1400:loss=0.000963799946475774\n",
      "step 1500:loss=0.0009060075390152633\n",
      "step 1600:loss=0.0008366501424461603\n",
      "step 1700:loss=0.0010240364354103804\n",
      "step 1800:loss=0.0009074404370039701\n",
      "step 1900:loss=0.0008641399908810854\n",
      "step 2000:loss=0.0007752865203656256\n",
      "step 2100:loss=0.000658421020489186\n",
      "step 2200:loss=0.0005911633488722146\n",
      "step 2300:loss=0.0006353642093017697\n",
      "step 2400:loss=0.0006478320574387908\n",
      "step 2500:loss=0.0006473112152889371\n",
      "step 2600:loss=0.0005619628354907036\n",
      "step 2700:loss=0.00047000590711832047\n",
      "step 2800:loss=0.0008093795040622354\n",
      "step 2900:loss=0.0005982796428725123\n",
      "step 3000:loss=0.0004162804107181728\n",
      "Mean Square Error is : 0.019566\n",
      "drawing starts\n"
     ]
    },
    {
     "data": {
      "image/png": "[encoded data removed]",
      "text/plain": [
       "<matplotlib.figure.Figure at 0x7fe6113ce160>"
      ]
     },
     "metadata": {},
     "output_type": "display_data"
    },
    {
     "name": "stdout",
     "output_type": "stream",
     "text": [
      "drawing completed\n"
     ]
    }
   ],
   "source": [
    "def train(sess, X_train, y_train):\n",
    "    # given session object\n",
    "    ds = tf.data.Dataset.from_tensor_slices((X_train,y_train))\n",
    "    ds = ds.repeat().shuffle(1000).batch(FLAGS.batch_size)\n",
    "    X, y = ds.make_one_shot_iterator().get_next()\n",
    "\n",
    "    # creates the model\n",
    "    model = Model(FLAGS.max_time,1,1,FLAGS.learning_rate,FLAGS.lstm_size,FLAGS.num_layers,X,y)\n",
    "\n",
    "    # initialize all variables\n",
    "    sess.run(tf.global_variables_initializer())\n",
    "    \n",
    "    # for(i;0=>num_epochs)\n",
    "    for i in range(FLAGS.num_epochs):\n",
    "        # get X,y (batch_size,xxx)\n",
    "        _, loss = sess.run([model.train,model.loss],feed_dict={model.keep_prob:FLAGS.keep_prob})\n",
    "        if (i + 1) % FLAGS.log_every == 0:\n",
    "            print('step {0}:loss={1}'.format(i + 1,loss))\n",
    "\n",
    "def test(sess, X_test,y_test):\n",
    "    # given session object\n",
    "    # given X_test,y_test\n",
    "    # generate batches\n",
    "    ds = tf.data.Dataset.from_tensor_slices((X_test,y_test))\n",
    "    ds = ds.batch(1)\n",
    "    X, y = ds.make_one_shot_iterator().get_next()\n",
    "    \n",
    "\n",
    "    # create the model\n",
    "    model = Model(FLAGS.max_time,1,1,FLAGS.learning_rate,FLAGS.lstm_size,FLAGS.num_layers,X,y)\n",
    "    y_predicted = []\n",
    "    labels = []\n",
    "    for i in range(FLAGS.testing_examples):\n",
    "        p, l = sess.run([model.y_predicted,model.labels],feed_dict={model.keep_prob:1})\n",
    "        y_predicted.append(p)\n",
    "        labels.append(l)\n",
    "\n",
    "    # run accuracy\n",
    "    y_predicted = np.squeeze(np.array(y_predicted))\n",
    "    labels = np.array(labels).squeeze()\n",
    "    rmse = np.sqrt(((y_predicted - labels) ** 2).mean(axis=0))\n",
    "    print('Mean Square Error is : %f'%rmse)\n",
    "\n",
    "    print('drawing starts')\n",
    "    plt.figure()\n",
    "    plt.plot(y_predicted,label='predictions')\n",
    "    plt.plot(labels,label='real_sin')\n",
    "    plt.legend()\n",
    "    plt.show()\n",
    "    print('drawing completed')\n",
    "\n",
    "# main\n",
    "def main():\n",
    "    # calculate training pos\n",
    "    training_pos = (FLAGS.training_examples + FLAGS.max_time) * FLAGS.sample_gap\n",
    "    # calculate testing pos\n",
    "    testing_pos = training_pos + (FLAGS.testing_examples + FLAGS.max_time) * FLAGS.sample_gap\n",
    "    # generate training data\n",
    "    X_train, y_train = generate_data(0, training_pos, FLAGS.training_examples,FLAGS.max_time)\n",
    "    # generate test data\n",
    "    X_test, y_test = generate_data(training_pos, testing_pos, FLAGS.testing_examples, FLAGS.max_time)\n",
    "\n",
    "    config = tf.ConfigProto()\n",
    "    config.gpu_options.allow_growth = True\n",
    "    with tf.Session(config=config) as sess:\n",
    "        # train\n",
    "        with tf.variable_scope('model'):\n",
    "            train(sess,X_train,y_train)\n",
    "        # test\n",
    "        with tf.variable_scope('model',reuse=True):\n",
    "            test(sess,X_test,y_test)\n",
    "\n",
    "\n",
    "\n",
    "if __name__ == '__main__':\n",
    "    main()"
   ]
  }
 ],
 "metadata": {
  "kernelspec": {
   "display_name": "Python 3",
   "language": "python",
   "name": "python3"
  },
  "language_info": {
   "codemirror_mode": {
    "name": "ipython",
    "version": 3
   },
   "file_extension": ".py",
   "mimetype": "text/x-python",
   "name": "python",
   "nbconvert_exporter": "python",
   "pygments_lexer": "ipython3",
   "version": "3.6.4"
  }
 },
 "nbformat": 4,
 "nbformat_minor": 2
}
