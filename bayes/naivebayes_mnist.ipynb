{
 "cells": [
  {
   "cell_type": "markdown",
   "metadata": {},
   "source": [
    "# NaiveBayes on MNIST dataset"
   ]
  },
  {
   "cell_type": "markdown",
   "metadata": {},
   "source": [
    "Step 1: Import Packages"
   ]
  },
  {
   "cell_type": "code",
   "execution_count": 1,
   "metadata": {},
   "outputs": [
    {
     "name": "stderr",
     "output_type": "stream",
     "text": [
      "/home/orris/anaconda3/lib/python3.6/site-packages/sklearn/cross_validation.py:41: DeprecationWarning: This module was deprecated in version 0.18 in favor of the model_selection module into which all the refactored classes and functions are moved. Also note that the interface of the new CV iterators are different from that of this module. This module will be removed in 0.20.\n",
      "  \"This module will be removed in 0.20.\", DeprecationWarning)\n"
     ]
    }
   ],
   "source": [
    "import numpy as np\n",
    "import cv2\n",
    "import pandas as pd\n",
    "\n",
    "from sklearn.cross_validation import train_test_split\n",
    "from sklearn.metrics import accuracy_score\n"
   ]
  },
  {
   "cell_type": "markdown",
   "metadata": {},
   "source": [
    "Step 2: Prepare data."
   ]
  },
  {
   "cell_type": "code",
   "execution_count": 2,
   "metadata": {},
   "outputs": [],
   "source": [
    "raw_data = pd.read_csv('../data/train.csv',header=0)\n",
    "data = raw_data.values\n",
    "\n",
    "imgs = data[0::,1::]\n",
    "labels = data[::,0]\n",
    "\n",
    "x_train, x_test, y_train, y_test = train_test_split(imgs, labels, test_size=0.33, random_state=23323)"
   ]
  },
  {
   "cell_type": "markdown",
   "metadata": {},
   "source": [
    "Step 3: Build model."
   ]
  },
  {
   "cell_type": "code",
   "execution_count": 3,
   "metadata": {},
   "outputs": [],
   "source": [
    "class NaiveBayes(object):\n",
    "    def __init__(self, num_classes=10):\n",
    "        self.num_classes = num_classes\n",
    "        self.prior_probability = None\n",
    "        self.conditional_probability = None\n",
    "        self.feature_dim = None\n",
    "    \n",
    "    def _binarization(self, img):\n",
    "        bin_img = img.astype(np.uint8)\n",
    "        cv2.threshold(bin_img, 50, 1, cv2.THRESH_BINARY_INV, bin_img) # pixel = 0 if value > 50 else 1\n",
    "        return bin_img\n",
    "\n",
    "    def train(self, features, labels):\n",
    "        self.feature_dim = features[0].shape[0]\n",
    "        self.prior_probability = np.zeros(self.num_classes)\n",
    "        self.conditional_probability = np.zeros((self.num_classes, self.feature_dim, 2))\n",
    "\n",
    "        # count value\n",
    "        for feature, label in zip(features, labels):\n",
    "            bin_feature = self._binarization(feature)\n",
    "\n",
    "            self.prior_probability[label] += 1\n",
    "\n",
    "            for index, pixel in enumerate(bin_feature):\n",
    "                self.conditional_probability[label][index][pixel] += 1\n",
    "\n",
    "        # division\n",
    "        self.prior_probability = (self.prior_probability + 1) / (np.sum(self.prior_probability) + self.num_classes)\n",
    "        for i in range(self.num_classes):\n",
    "            for index in range(self.feature_dim):\n",
    "                c_0 = (self.conditional_probability[i][index][0] + 1) / (np.sum(self.conditional_probability[i][index]) + self.conditional_probability.shape[2])\n",
    "                c_1 = (self.conditional_probability[i][index][1] + 1) / (np.sum(self.conditional_probability[i][index]) + self.conditional_probability.shape[2])\n",
    "\n",
    "                self.conditional_probability[i][index][0] = c_0\n",
    "                self.conditional_probability[i][index][1] = c_1\n",
    "\n",
    "    def predict(self, features):\n",
    "        y_predicted = np.zeros(features.shape[0])\n",
    "        \n",
    "        \n",
    "        for index, feature in enumerate(features):\n",
    "            bin_feature = self._binarization(feature)\n",
    "            \n",
    "            y_pred = list()\n",
    "            for i in range(self.num_classes):\n",
    "                prob = self.prior_probability[i]\n",
    "                for j in range(self.feature_dim):\n",
    "                    prob *= self.conditional_probability[i][j][bin_feature[j]]\n",
    "                y_pred.append((prob, i))\n",
    "            y_predicted[index] = max(y_pred)[1]\n",
    "            \n",
    "        return y_predicted"
   ]
  },
  {
   "cell_type": "markdown",
   "metadata": {},
   "source": [
    "Step 4: Train model."
   ]
  },
  {
   "cell_type": "code",
   "execution_count": 4,
   "metadata": {},
   "outputs": [],
   "source": [
    "nb = NaiveBayes()\n",
    "nb.train(x_train, y_train)"
   ]
  },
  {
   "cell_type": "markdown",
   "metadata": {},
   "source": [
    "Step 5: Evaluate model"
   ]
  },
  {
   "cell_type": "code",
   "execution_count": 5,
   "metadata": {},
   "outputs": [
    {
     "name": "stdout",
     "output_type": "stream",
     "text": [
      "0.8326839826839827\n"
     ]
    }
   ],
   "source": [
    "y_predicted = nb.predict(x_test)\n",
    "score = accuracy_score(y_predicted, y_test)\n",
    "print(score)"
   ]
  }
 ],
 "metadata": {
  "kernelspec": {
   "display_name": "Python 3",
   "language": "python",
   "name": "python3"
  },
  "language_info": {
   "codemirror_mode": {
    "name": "ipython",
    "version": 3
   },
   "file_extension": ".py",
   "mimetype": "text/x-python",
   "name": "python",
   "nbconvert_exporter": "python",
   "pygments_lexer": "ipython3",
   "version": "3.6.4"
  }
 },
 "nbformat": 4,
 "nbformat_minor": 2
}
